{
 "cells": [
  {
   "cell_type": "markdown",
   "id": "d9a44af0",
   "metadata": {},
   "source": [
    "# Running nustarpipeline to Produce Science Products for NuSTAR:\n",
    "\n",
    "Adopted from C. Ferrigno (ISDC, University of Geneva), https://gitlab.astro.unige.ch/ferrigno/nustar-pipeline"
   ]
  },
  {
   "cell_type": "code",
   "execution_count": null,
   "id": "be1462e3",
   "metadata": {},
   "outputs": [],
   "source": [
    "## Importing modules developed for this project:\n",
    "# eg nustarpipeline process to wrap the nustar analysis for our needs, \n",
    "# nustarpipeline utils to collect useful functions\n",
    "# pyxmmsas (originally for XMM) for spectral fitting\n",
    "\n",
    "%matplotlib widget\n",
    "import numpy as np\n",
    "from astropy.table import Table\n",
    "import matplotlib.pyplot as plt\n",
    "from scipy.stats import norm\n",
    "import shutil, os, sys, hratio, json, logging\n",
    "from astroquery.simbad import Simbad\n",
    "from astropy import units as u\n",
    "from astropy.coordinates import SkyCoord\n",
    "from importlib import reload\n",
    "from astropy.io import fits as pf\n",
    "from nustarpipeline import process, utils\n",
    "import pyxmmsas as pysas\n",
    "from scipy import interpolate\n",
    "from datetime import datetime \n",
    "from time import gmtime, strftime"
   ]
  },
  {
   "cell_type": "code",
   "execution_count": null,
   "id": "ffca87e8",
   "metadata": {},
   "outputs": [],
   "source": [
    "#Set your source name and output folder:\n",
    "source : str = 'src' \n",
    "output_dir_figures_name : str = 'figures' \n",
    "orbitfile : str = None #'orbit.dat' # None to avoid orbit correction\n",
    "    \n",
    "#Set \"False\" to speed up reprocessing, use \"True\" to produce the lightcurves and spectra for FPMA and FPMB:\n",
    "run_nustar_tasks :bool = True \n",
    "rerun_nustar_pipeline :bool = True "
   ]
  },
  {
   "cell_type": "code",
   "execution_count": null,
   "id": "0e0ec989",
   "metadata": {},
   "outputs": [],
   "source": [
    "#Set your working directory and ObsID:\n",
    "mylocation= os.getcwd()\n",
    "print('Working directory = ' + mylocation)\n",
    "obsid='30202022002'\n",
    "print('OBSID: '+ obsid)\n",
    "if str(orbitfile) == 'None':\n",
    "    orbitfile = None\n",
    "\n",
    "#Set local pfiles for HEASOFT:\n",
    "\n",
    "if os.path.isdir('pfiles'):\n",
    "    print('folder \\'pfiles\\' exist')\n",
    "else:\n",
    "    os.makedirs('pfiles')\n",
    "pfiles = os.environ['PFILES'].split(';')\n",
    "os.environ['PFILES']=mylocation+'/pfiles;'+pfiles[1]\n",
    "print('PFILES:' + os.environ['PFILES'])\n",
    "\n",
    "#Set the output folder\n",
    "if os.path.isdir(output_dir_figures_name):\n",
    "    print('folder \\'%s\\' exist' % output_dir_figures_name)\n",
    "else:\n",
    "    os.makedirs(output_dir_figures_name)\n",
    "    \n",
    "output_dir_figures = mylocation+'/'+output_dir_figures_name\n",
    "\n",
    "file_handler = logging.FileHandler(filename='nustar_utils_%s.log' % (strftime(\"%Y-%m-%dT%H:%M:%S\", gmtime())))\n",
    "stdout_handler = logging.StreamHandler(sys.stdout)\n",
    "handlers = [file_handler] #stdout_handler, \n",
    "\n",
    "logging.basicConfig(level=logging.INFO, format=' %(levelname)s - %(message)s', handlers=handlers)\n",
    "logging.getLogger('').addHandler(logging.StreamHandler()) \n",
    "\n",
    "reload(utils)\n",
    "\n",
    "tmp = mylocation.split('/')\n",
    "\n",
    "obsid='30202022002'\n",
    "ra_src,dec_src = utils.get_target_coords_extern(source)\n",
    "print(obsid)"
   ]
  },
  {
   "cell_type": "code",
   "execution_count": null,
   "id": "34fe9348",
   "metadata": {},
   "outputs": [],
   "source": [
    "reload(process)\n",
    "if rerun_nustar_pipeline:\n",
    "    process.wrap_process(obsid, ra_src, dec_src, obsid, pipeline_flag=True, \n",
    "                            repository_location='/Volumes/Ana_PhD/data/ULXs/M82/NuSTAR/')"
   ]
  },
  {
   "cell_type": "markdown",
   "id": "3adbff8b",
   "metadata": {},
   "source": [
    "Do not forget to define your regions for FPMA and FPMB as:\n",
    "\n",
    "- FPMA: sourceA.reg & backgroundA.reg\n",
    "- FPMB: sourceA.reg & backgroundB.reg\n"
   ]
  },
  {
   "cell_type": "code",
   "execution_count": null,
   "id": "5a6f8578",
   "metadata": {},
   "outputs": [],
   "source": [
    "if run_nustar_tasks:\n",
    "    reload(process)\n",
    "\n",
    "    process.wrap_process(obsid, ra_src, dec_src, obsid, region_flag=True,  no_ds9_flag=True,\n",
    "                     repository_location='/Volumes/Ana_PhD/data/ULXs/M82/NuSTAR/')\n",
    " "
   ]
  }
 ],
 "metadata": {
  "kernelspec": {
   "display_name": "Python 3 (ipykernel)",
   "language": "python",
   "name": "python3"
  },
  "language_info": {
   "codemirror_mode": {
    "name": "ipython",
    "version": 3
   },
   "file_extension": ".py",
   "mimetype": "text/x-python",
   "name": "python",
   "nbconvert_exporter": "python",
   "pygments_lexer": "ipython3",
   "version": "3.9.16"
  }
 },
 "nbformat": 4,
 "nbformat_minor": 5
}
