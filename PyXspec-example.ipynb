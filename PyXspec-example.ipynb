{
 "cells": [
  {
   "cell_type": "markdown",
   "id": "0cf9f62b",
   "metadata": {},
   "source": [
    "# Use PyXspec for Spectral Fitting\n",
    "\n",
    "This is a simple example of spectral fitting using PyXspec:\n",
    "\n",
    "- Load your data, define your energies, define your fit\n",
    "- Plot your spectrum\n",
    "- Define your model\n",
    "- Fit\n",
    "- Plot your results with residuals and check the quality of your fit."
   ]
  },
  {
   "cell_type": "code",
   "execution_count": 1,
   "id": "86adf413",
   "metadata": {},
   "outputs": [],
   "source": [
    "from xspec import *\n",
    "import os\n",
    "import numpy\n",
    "import pandas as pd"
   ]
  },
  {
   "cell_type": "markdown",
   "id": "cdfb1661",
   "metadata": {},
   "source": [
    "### Load your spectrum and define your fit:"
   ]
  },
  {
   "cell_type": "code",
   "execution_count": null,
   "id": "4bd154ef",
   "metadata": {},
   "outputs": [],
   "source": [
    "Spectrum('spectrum.fits')\n",
    "AllData.ignore(\"**-0.3, 7.0-**\")#set your energy limits\n",
    "AllData.ignore(\"bad\")\n",
    "\n",
    "Fit.statMethod = 'cstat' #set your fit statistic method\n",
    "Fit.query=\"yes\"\n",
    "Fit.nIterations=1000 "
   ]
  },
  {
   "cell_type": "markdown",
   "id": "94898396",
   "metadata": {},
   "source": [
    "### Plot your spectrum:\n",
    "\n",
    "Some examples of single plots:\n",
    "\n",
    "<code>Plot(\"ldata\")</code>\n",
    "\n",
    "<code>Plot(\"data\")</code>\n",
    "\n",
    "<code>Plot(\"model\")</code>\n",
    "\n",
    "<code>Plot(\"ufspec\")</code>\n",
    "\n",
    "or multiple plots:\n",
    "\n",
    "<code>Plot(\"data\",\"model\",\"resid\")</code>"
   ]
  },
  {
   "cell_type": "code",
   "execution_count": null,
   "id": "ce627c10",
   "metadata": {},
   "outputs": [],
   "source": [
    "Plot.xAxis = \"keV\" # or \"channel\"\n",
    "Plot.device = \"/xw\" #prompts an XWindow window to display your spectrum, set to \"none\" to turn it off.\n",
    "Plot.setRebin(2, 1000)\n",
    "Plot(\"ldata\") #single plot displaying your spectrum in logarithmic scale. "
   ]
  },
  {
   "cell_type": "markdown",
   "id": "068e8b52",
   "metadata": {},
   "source": [
    "### Save the data to pandas dataframe:"
   ]
  },
  {
   "cell_type": "code",
   "execution_count": null,
   "id": "8b24718a",
   "metadata": {},
   "outputs": [],
   "source": [
    "E = Plot.x()\n",
    "E_err = Plot.xErr()\n",
    "data = Plot.y()\n",
    "data_err = Plot.yErr()\n",
    "df = pd.DataFrame(data={\"E(keV)\": E, \"E(keV)_err\": E_err, \"data\": data, \"data_err\": data_err})\n",
    "df.to_csv(\"filename.csv\", index=False)"
   ]
  },
  {
   "cell_type": "markdown",
   "id": "67a717f3",
   "metadata": {},
   "source": [
    "### Define a model start the fit:"
   ]
  },
  {
   "cell_type": "code",
   "execution_count": null,
   "id": "32e9bf27",
   "metadata": {},
   "outputs": [],
   "source": [
    "m1 = Model(\"simpl*diskbb\")\n",
    "m1.simpl.Gamma= (2., 0.1, 1., 1., 4., 4.)\n",
    "m1.simpl.FracSctr = (0.8, 0.1, 0.1, 0.1, 1.,1.)\n",
    "m1.simpl.UpScOnly = (1, -1)\n",
    "m1.diskbb.Tin = (1., 0.1, 0.5, 0.5, 2.,2.)\n",
    "m1.diskbb.norm = (1.e+4, 0.1, 1., 1., 1.e+5,1.e+5)\n",
    "Fit.perform()"
   ]
  },
  {
   "cell_type": "markdown",
   "id": "94fed90c",
   "metadata": {},
   "source": [
    "### Plot your results and residuals:\n",
    "\n",
    "Unfolded spectrum: \n",
    "\n",
    "<code>Plot(\"ufspec\")</code>\n",
    "\n",
    "or alternatively: \n",
    "\n",
    "<code>Plot(\"eufspec\")</code>\n",
    "\n",
    "<code>Plot(\"eeufspec\")</code>\n",
    "\n",
    "Multiple plots:\n",
    "\n",
    "<code>Plot(\"data\",\"model\",\"resid\")</code>\n",
    "\n",
    "Residuals:\n",
    "\n",
    "<code>Plot(\"resid\")</code>\n",
    "\n",
    "<code>Plot(\"chi\")</code>\n",
    "\n",
    "<code>Plot(\"delchi\")</code>\n",
    "\n",
    "<code>Plot(\"ratio\")</code>\n"
   ]
  },
  {
   "cell_type": "code",
   "execution_count": null,
   "id": "26a40463",
   "metadata": {},
   "outputs": [],
   "source": [
    "Plot(\"ldata del\")"
   ]
  }
 ],
 "metadata": {
  "kernelspec": {
   "display_name": "Python 3 (ipykernel)",
   "language": "python",
   "name": "python3"
  },
  "language_info": {
   "codemirror_mode": {
    "name": "ipython",
    "version": 3
   },
   "file_extension": ".py",
   "mimetype": "text/x-python",
   "name": "python",
   "nbconvert_exporter": "python",
   "pygments_lexer": "ipython3",
   "version": "3.9.16"
  }
 },
 "nbformat": 4,
 "nbformat_minor": 5
}
